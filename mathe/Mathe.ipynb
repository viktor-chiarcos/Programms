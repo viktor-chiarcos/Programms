{
  "cells": [
    {
      "cell_type": "markdown",
      "metadata": {
        "id": "h8vigTLkmRb5"
      },
      "source": [
        "# Rechnen"
      ]
    },
    {
      "cell_type": "markdown",
      "metadata": {
        "id": "Klw_iChons3c"
      },
      "source": []
    },
    {
      "cell_type": "code",
      "execution_count": null,
      "metadata": {
        "colab": {
          "background_save": true,
          "base_uri": "https://localhost:8080/"
        },
        "id": "zKef3Chapdtt",
        "outputId": "1a482a7f-f812-4d60-be28-d18a747ea246"
      },
      "outputs": [
        {
          "name": "stdout",
          "output_type": "stream",
          "text": [
            "Bitte löse die Aufgabe.\n",
            "Wenn Du eine Antwort nicht schon auswendig kennst,\n",
            "verwende die Nachbarschaftsmethode.\n"
          ]
        }
      ],
      "source": [
        "\n",
        "# @title Click `Show code` in the code cell.\n",
        "import re,random,time\n",
        "\n",
        "print(\"\"\"Bitte löse die Aufgabe.\n",
        "Wenn Du eine Antwort nicht schon auswendig kennst,\n",
        "verwende die Nachbarschaftsmethode.\"\"\")\n",
        "\n",
        "\n",
        "line=\"NIX\"\n",
        "while(line.strip()!=\"\"):\n",
        "\t\tx=random.randint(1,10)\n",
        "\t\ty=random.randint(1,10)\n",
        "\n",
        "\t\t# zweier- und fünferreihe mit je mindestens 20%\n",
        "\t\tif(random.randint(1,5)==1):\n",
        "\t\t\tif random.randint(1,2)==1:\n",
        "\t\t\t\tx=5\n",
        "\t\t\telse:\n",
        "\t\t\t\ty=5\n",
        "\t\telif random.randint(1,5)==1:\n",
        "\t\t\tif random.randint(1,2)==1:\n",
        "\t\t\t\tx=2\n",
        "\t\t\telse:\n",
        "\t\t\t\ty=2\n",
        "\n",
        "\t\toperator=\"*\" # 30% andere operatoren\n",
        "\t\tif random.randint(1,10)==1:\n",
        "\t\t\toperator=\"+\"\n",
        "\t\telif random.randint(1,5)==1:\n",
        "\t\t\toperator=\"-\"\n",
        "\t\t\tif x<y:\n",
        "\t\t\t\tx,y=y,x\n",
        "\n",
        "\t\tif not operator in operator2times:\n",
        "\t\t\toperator2times[operator]=[]\n",
        "\t\toperator2times[operator]=sorted(operator2times[operator])\n",
        "\n",
        "\t\tsolution=x*y\n",
        "\t\tif operator==\"+\":\n",
        "\t\t\tsolution=x+y\n",
        "\t\tif operator==\"-\":\n",
        "\t\t\tsolution=x-y\n",
        "\n",
        "\t\twhile(line!=\"\"):\n",
        "\t\t\tline=input(f\"{x}{operator}{y}=\")\n",
        "\t\t\tstart_time=time.time()\n",
        "\t\t\tduration=time.time()-start_time\n",
        "\t\t\tline=line.strip()\n",
        "\t\t\tif line==\"\":\n",
        "\t\t\t\tprint(\"Na jut, dann bis nächstes Mal.\\n\")\n",
        "\t\t\t\tfor operator,times in operator2times.items():\n",
        "\t\t\t\t\tif len(times)>0:\n",
        "\t\t\t\t\t\tprint(f\"Für eine {operator}-Aufgabe hast du im Mittel {int(10*sum(times)/len(times))/10} (Median {int(10*times[int(len(times)/2)])/10}) Sekunden gebraucht \\n\")\n",
        "\t\t\t\tbreak\n",
        "\t\t\ttry:\n",
        "\t\t\t\tif int(line)==solution:\n",
        "\t\t\t\t\tmsg=random.choice([\"Richtig, gut gemacht!\", \"Das passt, danke!\", \"Korrekt! Sehr gut.\", \"Fehlerfrei!\", \"Richtig gelöst ;)\",\"Gut gemacht, mach weiter so!\",\"Gut gemacht! Dranbleiben!\"])\n",
        "\t\t\t\t\tif len(operator2times[operator])<=len(msg):\n",
        "\t\t\t\t\t\tpass\n",
        "\t\t\t\t\telif duration>=operator2times[operator][-1]:\n",
        "\t\t\t\t\t\tmsg=\"Gut, aber versuche, ein bisschen schneller zu werden.\"\n",
        "\t\t\t\t\telif duration>=operator2times[operator][int(len(operator2times[operator])/2)]:\n",
        "\t\t\t\t\t\tpass\n",
        "\t\t\t\t\telif duration>operator2times[operator][1+int(len(operator2times[operator])/10)]:\n",
        "\t\t\t\t\t\tmsg=\"SUPER! Du wirst immer schneller!\"\n",
        "\t\t\t\t\telif duration>operator2times[operator][0]:\n",
        "\t\t\t\t\t\tmsg=\"WOW! Flitzerbonus!\"\n",
        "\t\t\t\t\telse:\n",
        "\t\t\t\t\t\tmsg=\"GROSSARTIG! So fix bist Du heute noch gar nicht gewesen!\"\n",
        "\t\t\t\t\tprint(\" \"+msg+\"\\n\\n\")\n",
        "\t\t\t\t\toperator2times[operator].append(duration)\n",
        "\t\t\t\t\tbreak\n",
        "\t\t\t\telse:\n",
        "\t\t\t\t\tmsg=[\"... ne, versuch nochmal.\",\"Leider nicht. Hast Du die richtige Operation verwendet?\"]\n",
        "\t\t\t\t\tprint(f\" {random.choice(msg)}\\n\\n\")\n",
        "\t\t\texcept Exception:\n",
        "\t\t\t\tprint(\" ... das war leider keine Zahl, probier nochmal\\n\\n\")\n",
        "operator2times={}\n",
        "\n"
      ]
    },
    {
      "cell_type": "markdown",
      "metadata": {
        "id": "OU7YHfwgGNSg"
      },
      "source": []
    }
  ],
  "metadata": {
    "colab": {
      "provenance": []
    },
    "kernelspec": {
      "display_name": "Python 3",
      "name": "python3"
    },
    "language_info": {
      "name": "python"
    }
  },
  "nbformat": 4,
  "nbformat_minor": 0
}